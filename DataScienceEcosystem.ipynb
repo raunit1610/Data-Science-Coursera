{
 "cells": [
  {
   "cell_type": "markdown",
   "id": "0d2710d6",
   "metadata": {},
   "source": [
    "# Data Science Tools and Ecosystem"
   ]
  },
  {
   "cell_type": "markdown",
   "id": "0ee72ab2",
   "metadata": {},
   "source": [
    "___In this notebook, Data Science Tools and Ecosystem are summarized.___"
   ]
  },
  {
   "cell_type": "markdown",
   "id": "4fdeafee",
   "metadata": {},
   "source": [
    "## Some of the popular languages that Data Scientists use are:\n",
    "1. Python\n",
    "2. R\n",
    "3. SQL"
   ]
  },
  {
   "cell_type": "markdown",
   "id": "1fee89a3",
   "metadata": {},
   "source": [
    "## Some of the commonly used libraries used by Data Scientists include:\n",
    "1. Pandas\n",
    "2. numPy\n",
    "3. TenserFlow"
   ]
  },
  {
   "cell_type": "markdown",
   "id": "f0995fdb",
   "metadata": {},
   "source": [
    "| Data Science Tools |\n",
    "|--------------------|\n",
    "| Jupyter Notebook   |\n",
    "| Zeppelin Notebook  |\n",
    "| R Studio’s         |"
   ]
  },
  {
   "cell_type": "markdown",
   "id": "0d2871b3",
   "metadata": {},
   "source": [
    "### Below are a few examples of evaluating arithmetic expressions in Python."
   ]
  },
  {
   "cell_type": "markdown",
   "id": "561b12a1",
   "metadata": {},
   "source": [
    "### This a simple arithmetic expression to mutiply then add integers"
   ]
  },
  {
   "cell_type": "code",
   "execution_count": 1,
   "id": "99896554",
   "metadata": {},
   "outputs": [
    {
     "data": {
      "text/plain": [
       "17"
      ]
     },
     "execution_count": 1,
     "metadata": {},
     "output_type": "execute_result"
    }
   ],
   "source": [
    "(3*4)+5"
   ]
  },
  {
   "cell_type": "markdown",
   "id": "929391db",
   "metadata": {},
   "source": [
    "### This will convert 200 minutes to hours by diving by 60."
   ]
  },
  {
   "cell_type": "code",
   "execution_count": 3,
   "id": "1ad17b0e",
   "metadata": {},
   "outputs": [
    {
     "data": {
      "text/plain": [
       "3"
      ]
     },
     "execution_count": 3,
     "metadata": {},
     "output_type": "execute_result"
    }
   ],
   "source": [
    "import math as mt\n",
    "hours = mt.floor(200/60)\n",
    "hours"
   ]
  },
  {
   "cell_type": "markdown",
   "id": "05c4f37f",
   "metadata": {},
   "source": [
    "*Objectives:*\n",
    " \n",
    " + List popular languages for Data Science\n",
    "     + Python\n",
    "     + R\n",
    " + Few Libraries Of Data Science Using Python\n",
    "     + Pandas\n",
    "     + numPy\n",
    " + Few Libraries Of Data Visualisation Using R\n",
    "     + ggplot2"
   ]
  },
  {
   "cell_type": "markdown",
   "id": "49e2787f",
   "metadata": {},
   "source": [
    "## Author\n",
    "Raunit Raj"
   ]
  },
  {
   "cell_type": "code",
   "execution_count": null,
   "id": "f9940722",
   "metadata": {},
   "outputs": [],
   "source": []
  }
 ],
 "metadata": {
  "kernelspec": {
   "display_name": "Python 3 (ipykernel)",
   "language": "python",
   "name": "python3"
  },
  "language_info": {
   "codemirror_mode": {
    "name": "ipython",
    "version": 3
   },
   "file_extension": ".py",
   "mimetype": "text/x-python",
   "name": "python",
   "nbconvert_exporter": "python",
   "pygments_lexer": "ipython3",
   "version": "3.11.5"
  }
 },
 "nbformat": 4,
 "nbformat_minor": 5
}
